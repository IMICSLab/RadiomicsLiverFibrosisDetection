{
  "cells": [
    {
      "cell_type": "markdown",
      "metadata": {
        "id": "view-in-github",
        "colab_type": "text"
      },
      "source": [
        "<a href=\"https://colab.research.google.com/github/JayJaewonYoo/RadiomicsLiverFibrosisDetection/blob/main/inference.ipynb\" target=\"_parent\"><img src=\"https://colab.research.google.com/assets/colab-badge.svg\" alt=\"Open In Colab\"/></a>"
      ]
    },
    {
      "cell_type": "markdown",
      "id": "762a79de-500f-4cb7-bcb8-a22c66e16b2c",
      "metadata": {
        "id": "762a79de-500f-4cb7-bcb8-a22c66e16b2c"
      },
      "source": [
        "# Inference using radiomics-based liver fibrosis detection models\n",
        "This notebook serves to demonstrate how to run the radiomics-based liver fibrosis detection models proposed in the paper [Non-invasive Liver Fibrosis Screening on CT Images using Radiomics](https://arxiv.org/abs/2211.14396)."
      ]
    },
    {
      "cell_type": "markdown",
      "id": "702b063f-816b-4e16-bd30-825a05ce4f05",
      "metadata": {
        "id": "702b063f-816b-4e16-bd30-825a05ce4f05"
      },
      "source": [
        "## Imports"
      ]
    },
    {
      "cell_type": "code",
      "source": [
        "!python3 -m pip install numpy==1.26.4\n",
        "!python3 -m pip install scikit-learn==1.5.1\n",
        "!python3 -m pip install pandas==2.2.2\n",
        "!python3 -m pip install onnxruntime==1.17.1\n",
        "!python3 -m pip install skops==0.10.0"
      ],
      "metadata": {
        "colab": {
          "base_uri": "https://localhost:8080/"
        },
        "id": "jmt1IPClSl8S",
        "outputId": "36db8ebf-41cb-4707-e80c-85e1c1a4e24c"
      },
      "id": "jmt1IPClSl8S",
      "execution_count": 1,
      "outputs": [
        {
          "output_type": "stream",
          "name": "stdout",
          "text": [
            "Requirement already satisfied: numpy==1.26.4 in /usr/local/lib/python3.10/dist-packages (1.26.4)\n",
            "Collecting scikit-learn==1.5.1\n",
            "  Downloading scikit_learn-1.5.1-cp310-cp310-manylinux_2_17_x86_64.manylinux2014_x86_64.whl.metadata (12 kB)\n",
            "Requirement already satisfied: numpy>=1.19.5 in /usr/local/lib/python3.10/dist-packages (from scikit-learn==1.5.1) (1.26.4)\n",
            "Requirement already satisfied: scipy>=1.6.0 in /usr/local/lib/python3.10/dist-packages (from scikit-learn==1.5.1) (1.13.1)\n",
            "Requirement already satisfied: joblib>=1.2.0 in /usr/local/lib/python3.10/dist-packages (from scikit-learn==1.5.1) (1.4.2)\n",
            "Requirement already satisfied: threadpoolctl>=3.1.0 in /usr/local/lib/python3.10/dist-packages (from scikit-learn==1.5.1) (3.5.0)\n",
            "Downloading scikit_learn-1.5.1-cp310-cp310-manylinux_2_17_x86_64.manylinux2014_x86_64.whl (13.4 MB)\n",
            "\u001b[2K   \u001b[90m━━━━━━━━━━━━━━━━━━━━━━━━━━━━━━━━━━━━━━━━\u001b[0m \u001b[32m13.4/13.4 MB\u001b[0m \u001b[31m82.9 MB/s\u001b[0m eta \u001b[36m0:00:00\u001b[0m\n",
            "\u001b[?25hInstalling collected packages: scikit-learn\n",
            "  Attempting uninstall: scikit-learn\n",
            "    Found existing installation: scikit-learn 1.5.2\n",
            "    Uninstalling scikit-learn-1.5.2:\n",
            "      Successfully uninstalled scikit-learn-1.5.2\n",
            "Successfully installed scikit-learn-1.5.1\n",
            "Requirement already satisfied: pandas==2.2.2 in /usr/local/lib/python3.10/dist-packages (2.2.2)\n",
            "Requirement already satisfied: numpy>=1.22.4 in /usr/local/lib/python3.10/dist-packages (from pandas==2.2.2) (1.26.4)\n",
            "Requirement already satisfied: python-dateutil>=2.8.2 in /usr/local/lib/python3.10/dist-packages (from pandas==2.2.2) (2.8.2)\n",
            "Requirement already satisfied: pytz>=2020.1 in /usr/local/lib/python3.10/dist-packages (from pandas==2.2.2) (2024.2)\n",
            "Requirement already satisfied: tzdata>=2022.7 in /usr/local/lib/python3.10/dist-packages (from pandas==2.2.2) (2024.2)\n",
            "Requirement already satisfied: six>=1.5 in /usr/local/lib/python3.10/dist-packages (from python-dateutil>=2.8.2->pandas==2.2.2) (1.16.0)\n",
            "Collecting onnxruntime==1.17.1\n",
            "  Downloading onnxruntime-1.17.1-cp310-cp310-manylinux_2_27_x86_64.manylinux_2_28_x86_64.whl.metadata (4.3 kB)\n",
            "Collecting coloredlogs (from onnxruntime==1.17.1)\n",
            "  Downloading coloredlogs-15.0.1-py2.py3-none-any.whl.metadata (12 kB)\n",
            "Requirement already satisfied: flatbuffers in /usr/local/lib/python3.10/dist-packages (from onnxruntime==1.17.1) (24.3.25)\n",
            "Requirement already satisfied: numpy>=1.21.6 in /usr/local/lib/python3.10/dist-packages (from onnxruntime==1.17.1) (1.26.4)\n",
            "Requirement already satisfied: packaging in /usr/local/lib/python3.10/dist-packages (from onnxruntime==1.17.1) (24.1)\n",
            "Requirement already satisfied: protobuf in /usr/local/lib/python3.10/dist-packages (from onnxruntime==1.17.1) (3.20.3)\n",
            "Requirement already satisfied: sympy in /usr/local/lib/python3.10/dist-packages (from onnxruntime==1.17.1) (1.13.3)\n",
            "Collecting humanfriendly>=9.1 (from coloredlogs->onnxruntime==1.17.1)\n",
            "  Downloading humanfriendly-10.0-py2.py3-none-any.whl.metadata (9.2 kB)\n",
            "Requirement already satisfied: mpmath<1.4,>=1.1.0 in /usr/local/lib/python3.10/dist-packages (from sympy->onnxruntime==1.17.1) (1.3.0)\n",
            "Downloading onnxruntime-1.17.1-cp310-cp310-manylinux_2_27_x86_64.manylinux_2_28_x86_64.whl (6.8 MB)\n",
            "\u001b[2K   \u001b[90m━━━━━━━━━━━━━━━━━━━━━━━━━━━━━━━━━━━━━━━━\u001b[0m \u001b[32m6.8/6.8 MB\u001b[0m \u001b[31m88.1 MB/s\u001b[0m eta \u001b[36m0:00:00\u001b[0m\n",
            "\u001b[?25hDownloading coloredlogs-15.0.1-py2.py3-none-any.whl (46 kB)\n",
            "\u001b[2K   \u001b[90m━━━━━━━━━━━━━━━━━━━━━━━━━━━━━━━━━━━━━━━━\u001b[0m \u001b[32m46.0/46.0 kB\u001b[0m \u001b[31m3.1 MB/s\u001b[0m eta \u001b[36m0:00:00\u001b[0m\n",
            "\u001b[?25hDownloading humanfriendly-10.0-py2.py3-none-any.whl (86 kB)\n",
            "\u001b[2K   \u001b[90m━━━━━━━━━━━━━━━━━━━━━━━━━━━━━━━━━━━━━━━━\u001b[0m \u001b[32m86.8/86.8 kB\u001b[0m \u001b[31m6.9 MB/s\u001b[0m eta \u001b[36m0:00:00\u001b[0m\n",
            "\u001b[?25hInstalling collected packages: humanfriendly, coloredlogs, onnxruntime\n",
            "Successfully installed coloredlogs-15.0.1 humanfriendly-10.0 onnxruntime-1.17.1\n",
            "Collecting skops==0.10.0\n",
            "  Downloading skops-0.10.0-py3-none-any.whl.metadata (5.8 kB)\n",
            "Requirement already satisfied: scikit-learn>=0.24 in /usr/local/lib/python3.10/dist-packages (from skops==0.10.0) (1.5.1)\n",
            "Requirement already satisfied: huggingface-hub>=0.17.0 in /usr/local/lib/python3.10/dist-packages (from skops==0.10.0) (0.24.7)\n",
            "Requirement already satisfied: tabulate>=0.8.8 in /usr/local/lib/python3.10/dist-packages (from skops==0.10.0) (0.9.0)\n",
            "Requirement already satisfied: packaging>=17.0 in /usr/local/lib/python3.10/dist-packages (from skops==0.10.0) (24.1)\n",
            "Requirement already satisfied: filelock in /usr/local/lib/python3.10/dist-packages (from huggingface-hub>=0.17.0->skops==0.10.0) (3.16.1)\n",
            "Requirement already satisfied: fsspec>=2023.5.0 in /usr/local/lib/python3.10/dist-packages (from huggingface-hub>=0.17.0->skops==0.10.0) (2024.6.1)\n",
            "Requirement already satisfied: pyyaml>=5.1 in /usr/local/lib/python3.10/dist-packages (from huggingface-hub>=0.17.0->skops==0.10.0) (6.0.2)\n",
            "Requirement already satisfied: requests in /usr/local/lib/python3.10/dist-packages (from huggingface-hub>=0.17.0->skops==0.10.0) (2.32.3)\n",
            "Requirement already satisfied: tqdm>=4.42.1 in /usr/local/lib/python3.10/dist-packages (from huggingface-hub>=0.17.0->skops==0.10.0) (4.66.5)\n",
            "Requirement already satisfied: typing-extensions>=3.7.4.3 in /usr/local/lib/python3.10/dist-packages (from huggingface-hub>=0.17.0->skops==0.10.0) (4.12.2)\n",
            "Requirement already satisfied: numpy>=1.19.5 in /usr/local/lib/python3.10/dist-packages (from scikit-learn>=0.24->skops==0.10.0) (1.26.4)\n",
            "Requirement already satisfied: scipy>=1.6.0 in /usr/local/lib/python3.10/dist-packages (from scikit-learn>=0.24->skops==0.10.0) (1.13.1)\n",
            "Requirement already satisfied: joblib>=1.2.0 in /usr/local/lib/python3.10/dist-packages (from scikit-learn>=0.24->skops==0.10.0) (1.4.2)\n",
            "Requirement already satisfied: threadpoolctl>=3.1.0 in /usr/local/lib/python3.10/dist-packages (from scikit-learn>=0.24->skops==0.10.0) (3.5.0)\n",
            "Requirement already satisfied: charset-normalizer<4,>=2 in /usr/local/lib/python3.10/dist-packages (from requests->huggingface-hub>=0.17.0->skops==0.10.0) (3.3.2)\n",
            "Requirement already satisfied: idna<4,>=2.5 in /usr/local/lib/python3.10/dist-packages (from requests->huggingface-hub>=0.17.0->skops==0.10.0) (3.10)\n",
            "Requirement already satisfied: urllib3<3,>=1.21.1 in /usr/local/lib/python3.10/dist-packages (from requests->huggingface-hub>=0.17.0->skops==0.10.0) (2.2.3)\n",
            "Requirement already satisfied: certifi>=2017.4.17 in /usr/local/lib/python3.10/dist-packages (from requests->huggingface-hub>=0.17.0->skops==0.10.0) (2024.8.30)\n",
            "Downloading skops-0.10.0-py3-none-any.whl (121 kB)\n",
            "\u001b[2K   \u001b[90m━━━━━━━━━━━━━━━━━━━━━━━━━━━━━━━━━━━━━━━━\u001b[0m \u001b[32m121.9/121.9 kB\u001b[0m \u001b[31m8.9 MB/s\u001b[0m eta \u001b[36m0:00:00\u001b[0m\n",
            "\u001b[?25hInstalling collected packages: skops\n",
            "Successfully installed skops-0.10.0\n"
          ]
        }
      ]
    },
    {
      "cell_type": "code",
      "execution_count": 2,
      "id": "5087e6f1-75ec-4db6-b075-d2daf28b38e2",
      "metadata": {
        "id": "5087e6f1-75ec-4db6-b075-d2daf28b38e2"
      },
      "outputs": [],
      "source": [
        "# The following set of imports are loaded directly to check versions\n",
        "import numpy as np\n",
        "import sklearn\n",
        "import pandas\n",
        "import onnxruntime\n",
        "import skops\n",
        "\n",
        "# The following imports are required for loading and processing the data, and then training the model\n",
        "# These imports will also be required if skops is used\n",
        "from sklearn import set_config\n",
        "from pandas import DataFrame\n",
        "\n",
        "# These imports are used to save the model to ONNX and run the model from ONNX, note numpy is also required\n",
        "from onnxruntime import InferenceSession\n",
        "\n",
        "# This import is used to save the model using skops and run the model from ONNX\n",
        "import skops.io as sio"
      ]
    },
    {
      "cell_type": "markdown",
      "id": "fd362904-fc12-4218-ae4e-33b67c0dd51e",
      "metadata": {
        "id": "fd362904-fc12-4218-ae4e-33b67c0dd51e"
      },
      "source": [
        "## Versions used for this notebook example"
      ]
    },
    {
      "cell_type": "code",
      "source": [
        "!python --version"
      ],
      "metadata": {
        "colab": {
          "base_uri": "https://localhost:8080/"
        },
        "id": "dKNohuzbUf2i",
        "outputId": "6e1dad8d-dc7b-478e-cd27-a3a061b649bc"
      },
      "id": "dKNohuzbUf2i",
      "execution_count": 3,
      "outputs": [
        {
          "output_type": "stream",
          "name": "stdout",
          "text": [
            "Python 3.10.12\n"
          ]
        }
      ]
    },
    {
      "cell_type": "code",
      "execution_count": 4,
      "id": "2259a5b8-3850-4644-b4a9-76856f976f11",
      "metadata": {
        "id": "2259a5b8-3850-4644-b4a9-76856f976f11",
        "outputId": "0320dea3-636f-4c81-9739-54cd94b2bd3f",
        "colab": {
          "base_uri": "https://localhost:8080/"
        }
      },
      "outputs": [
        {
          "output_type": "stream",
          "name": "stdout",
          "text": [
            "1.26.4\n",
            "1.5.1\n",
            "2.2.2\n"
          ]
        }
      ],
      "source": [
        "print(np.__version__)\n",
        "print(sklearn.__version__)\n",
        "print(pandas.__version__)"
      ]
    },
    {
      "cell_type": "code",
      "execution_count": 5,
      "id": "0885e3b5-b31d-4139-9139-4e901af356be",
      "metadata": {
        "id": "0885e3b5-b31d-4139-9139-4e901af356be",
        "outputId": "a60b19da-a949-4dfd-98a8-99bc1a43ed6b",
        "colab": {
          "base_uri": "https://localhost:8080/"
        }
      },
      "outputs": [
        {
          "output_type": "stream",
          "name": "stdout",
          "text": [
            "1.17.1\n",
            "0.10.0\n"
          ]
        }
      ],
      "source": [
        "# Only one of these will be necessary depending on how the model is loaded\n",
        "print(onnxruntime.__version__)\n",
        "print(skops.__version__)"
      ]
    },
    {
      "cell_type": "markdown",
      "source": [
        "## Download model files\n",
        "The model files can be found in the GitHub repository."
      ],
      "metadata": {
        "id": "BR8f5SHPzIh0"
      },
      "id": "BR8f5SHPzIh0"
    },
    {
      "cell_type": "code",
      "source": [
        "!mkdir persisted_models/"
      ],
      "metadata": {
        "id": "W8YSyc3P3jXA"
      },
      "id": "W8YSyc3P3jXA",
      "execution_count": 6,
      "outputs": []
    },
    {
      "cell_type": "code",
      "source": [
        "!wget https://github.com/JayJaewonYoo/RadiomicsLiverFibrosisDetection/raw/refs/heads/main/persisted_models/liverfibrosisdetectionmodel.skops -P persisted_models/\n",
        "!wget https://github.com/JayJaewonYoo/RadiomicsLiverFibrosisDetection/raw/refs/heads/main/persisted_models/liverfibrosisdetectionmodel.onnx -P persisted_models/"
      ],
      "metadata": {
        "colab": {
          "base_uri": "https://localhost:8080/"
        },
        "id": "m_lkyA2M2hfJ",
        "outputId": "0ff1bce6-f51c-4fd0-c6de-137926023f7b"
      },
      "id": "m_lkyA2M2hfJ",
      "execution_count": 7,
      "outputs": [
        {
          "output_type": "stream",
          "name": "stdout",
          "text": [
            "--2024-10-05 04:15:34--  https://github.com/JayJaewonYoo/RadiomicsLiverFibrosisDetection/raw/refs/heads/main/persisted_models/liverfibrosisdetectionmodel.skops\n",
            "Resolving github.com (github.com)... 140.82.113.4\n",
            "Connecting to github.com (github.com)|140.82.113.4|:443... connected.\n",
            "HTTP request sent, awaiting response... 302 Found\n",
            "Location: https://raw.githubusercontent.com/JayJaewonYoo/RadiomicsLiverFibrosisDetection/refs/heads/main/persisted_models/liverfibrosisdetectionmodel.skops [following]\n",
            "--2024-10-05 04:15:34--  https://raw.githubusercontent.com/JayJaewonYoo/RadiomicsLiverFibrosisDetection/refs/heads/main/persisted_models/liverfibrosisdetectionmodel.skops\n",
            "Resolving raw.githubusercontent.com (raw.githubusercontent.com)... 185.199.110.133, 185.199.109.133, 185.199.111.133, ...\n",
            "Connecting to raw.githubusercontent.com (raw.githubusercontent.com)|185.199.110.133|:443... connected.\n",
            "HTTP request sent, awaiting response... 200 OK\n",
            "Length: 32078 (31K) [application/octet-stream]\n",
            "Saving to: ‘persisted_models/liverfibrosisdetectionmodel.skops’\n",
            "\n",
            "\r          liverfibr   0%[                    ]       0  --.-KB/s               \rliverfibrosisdetect 100%[===================>]  31.33K  --.-KB/s    in 0.002s  \n",
            "\n",
            "2024-10-05 04:15:34 (15.6 MB/s) - ‘persisted_models/liverfibrosisdetectionmodel.skops’ saved [32078/32078]\n",
            "\n",
            "--2024-10-05 04:15:34--  https://github.com/JayJaewonYoo/RadiomicsLiverFibrosisDetection/raw/refs/heads/main/persisted_models/liverfibrosisdetectionmodel.onnx\n",
            "Resolving github.com (github.com)... 140.82.113.3\n",
            "Connecting to github.com (github.com)|140.82.113.3|:443... connected.\n",
            "HTTP request sent, awaiting response... 302 Found\n",
            "Location: https://raw.githubusercontent.com/JayJaewonYoo/RadiomicsLiverFibrosisDetection/refs/heads/main/persisted_models/liverfibrosisdetectionmodel.onnx [following]\n",
            "--2024-10-05 04:15:34--  https://raw.githubusercontent.com/JayJaewonYoo/RadiomicsLiverFibrosisDetection/refs/heads/main/persisted_models/liverfibrosisdetectionmodel.onnx\n",
            "Resolving raw.githubusercontent.com (raw.githubusercontent.com)... 185.199.108.133, 185.199.109.133, 185.199.110.133, ...\n",
            "Connecting to raw.githubusercontent.com (raw.githubusercontent.com)|185.199.108.133|:443... connected.\n",
            "HTTP request sent, awaiting response... 200 OK\n",
            "Length: 1212 (1.2K) [application/octet-stream]\n",
            "Saving to: ‘persisted_models/liverfibrosisdetectionmodel.onnx’\n",
            "\n",
            "liverfibrosisdetect 100%[===================>]   1.18K  --.-KB/s    in 0.005s  \n",
            "\n",
            "2024-10-05 04:15:35 (233 KB/s) - ‘persisted_models/liverfibrosisdetectionmodel.onnx’ saved [1212/1212]\n",
            "\n"
          ]
        }
      ]
    },
    {
      "cell_type": "markdown",
      "id": "647301da-ed2f-4ff2-8fbe-47482b1ff712",
      "metadata": {
        "id": "647301da-ed2f-4ff2-8fbe-47482b1ff712"
      },
      "source": [
        "## Generating data"
      ]
    },
    {
      "cell_type": "markdown",
      "id": "be677b00-67bc-4349-842e-8784a9308daa",
      "metadata": {
        "id": "be677b00-67bc-4349-842e-8784a9308daa"
      },
      "source": [
        "Generating toy data to demonstrate how the data should look and how to perform inference using the public liver fibrosis models. The toy data is not indicative of any real-world radiomics data and is used purely for demonstrative purposes.\n",
        "\n",
        "Note that the input data is in data type Float32."
      ]
    },
    {
      "cell_type": "code",
      "execution_count": 8,
      "id": "d271a039-df3b-4b32-b4cc-d4ff182467fc",
      "metadata": {
        "id": "d271a039-df3b-4b32-b4cc-d4ff182467fc"
      },
      "outputs": [],
      "source": [
        "features = ['original_firstorder_Energy', 'original_firstorder_Kurtosis', 'original_firstorder_Skewness', 'lbp-3D-k_firstorder_Maximum', 'wavelet-LHL_glszm_SmallAreaHighGrayLevelEmphasis']\n",
        "toy_feature_data = {\n",
        "    'original_firstorder_Energy': np.random.uniform(low=7e+02, high=5e+04, size=(20, 1)),\n",
        "    'original_firstorder_Kurtosis': np.random.uniform(low=3e+00, high=3e+01, size=(20, 1)),\n",
        "    'original_firstorder_Skewness': np.random.uniform(low=-3e-01, high=4e+00, size=(20, 1)),\n",
        "    'lbp-3D-k_firstorder_Maximum': np.random.uniform(low=2e+00, high=1e+01, size=(20, 1)),\n",
        "    'wavelet-LHL_glszm_SmallAreaHighGrayLevelEmphasis': np.random.uniform(low=7e-01, high=2e+00, size=(20, 1)),\n",
        "}\n",
        "toy_data = DataFrame(data=np.concatenate([toy_feature_data[feature] for feature in features], axis=1), columns=features, dtype=np.float32)"
      ]
    },
    {
      "cell_type": "code",
      "execution_count": 9,
      "id": "55bb3099-6c07-422b-a7a9-97fc02c04301",
      "metadata": {
        "id": "55bb3099-6c07-422b-a7a9-97fc02c04301",
        "outputId": "a23a7e70-25d5-40f2-ef3e-02ef425d5850",
        "colab": {
          "base_uri": "https://localhost:8080/",
          "height": 206
        }
      },
      "outputs": [
        {
          "output_type": "execute_result",
          "data": {
            "text/plain": [
              "   original_firstorder_Energy  original_firstorder_Kurtosis  \\\n",
              "0                35107.714844                     19.263660   \n",
              "1                11977.683594                      5.789762   \n",
              "2                41588.144531                     17.310648   \n",
              "3                28302.169922                      3.197089   \n",
              "4                 3265.684570                     29.984007   \n",
              "\n",
              "   original_firstorder_Skewness  lbp-3D-k_firstorder_Maximum  \\\n",
              "0                     -0.285537                     9.950083   \n",
              "1                      3.633077                     2.280541   \n",
              "2                      2.977247                     8.721092   \n",
              "3                      1.912581                     2.842958   \n",
              "4                      0.607360                     6.906138   \n",
              "\n",
              "   wavelet-LHL_glszm_SmallAreaHighGrayLevelEmphasis  \n",
              "0                                          1.030980  \n",
              "1                                          1.706167  \n",
              "2                                          1.422808  \n",
              "3                                          1.528551  \n",
              "4                                          1.473105  "
            ],
            "text/html": [
              "\n",
              "  <div id=\"df-027de3c7-0d6c-439e-acfb-d291dda0515a\" class=\"colab-df-container\">\n",
              "    <div>\n",
              "<style scoped>\n",
              "    .dataframe tbody tr th:only-of-type {\n",
              "        vertical-align: middle;\n",
              "    }\n",
              "\n",
              "    .dataframe tbody tr th {\n",
              "        vertical-align: top;\n",
              "    }\n",
              "\n",
              "    .dataframe thead th {\n",
              "        text-align: right;\n",
              "    }\n",
              "</style>\n",
              "<table border=\"1\" class=\"dataframe\">\n",
              "  <thead>\n",
              "    <tr style=\"text-align: right;\">\n",
              "      <th></th>\n",
              "      <th>original_firstorder_Energy</th>\n",
              "      <th>original_firstorder_Kurtosis</th>\n",
              "      <th>original_firstorder_Skewness</th>\n",
              "      <th>lbp-3D-k_firstorder_Maximum</th>\n",
              "      <th>wavelet-LHL_glszm_SmallAreaHighGrayLevelEmphasis</th>\n",
              "    </tr>\n",
              "  </thead>\n",
              "  <tbody>\n",
              "    <tr>\n",
              "      <th>0</th>\n",
              "      <td>35107.714844</td>\n",
              "      <td>19.263660</td>\n",
              "      <td>-0.285537</td>\n",
              "      <td>9.950083</td>\n",
              "      <td>1.030980</td>\n",
              "    </tr>\n",
              "    <tr>\n",
              "      <th>1</th>\n",
              "      <td>11977.683594</td>\n",
              "      <td>5.789762</td>\n",
              "      <td>3.633077</td>\n",
              "      <td>2.280541</td>\n",
              "      <td>1.706167</td>\n",
              "    </tr>\n",
              "    <tr>\n",
              "      <th>2</th>\n",
              "      <td>41588.144531</td>\n",
              "      <td>17.310648</td>\n",
              "      <td>2.977247</td>\n",
              "      <td>8.721092</td>\n",
              "      <td>1.422808</td>\n",
              "    </tr>\n",
              "    <tr>\n",
              "      <th>3</th>\n",
              "      <td>28302.169922</td>\n",
              "      <td>3.197089</td>\n",
              "      <td>1.912581</td>\n",
              "      <td>2.842958</td>\n",
              "      <td>1.528551</td>\n",
              "    </tr>\n",
              "    <tr>\n",
              "      <th>4</th>\n",
              "      <td>3265.684570</td>\n",
              "      <td>29.984007</td>\n",
              "      <td>0.607360</td>\n",
              "      <td>6.906138</td>\n",
              "      <td>1.473105</td>\n",
              "    </tr>\n",
              "  </tbody>\n",
              "</table>\n",
              "</div>\n",
              "    <div class=\"colab-df-buttons\">\n",
              "\n",
              "  <div class=\"colab-df-container\">\n",
              "    <button class=\"colab-df-convert\" onclick=\"convertToInteractive('df-027de3c7-0d6c-439e-acfb-d291dda0515a')\"\n",
              "            title=\"Convert this dataframe to an interactive table.\"\n",
              "            style=\"display:none;\">\n",
              "\n",
              "  <svg xmlns=\"http://www.w3.org/2000/svg\" height=\"24px\" viewBox=\"0 -960 960 960\">\n",
              "    <path d=\"M120-120v-720h720v720H120Zm60-500h600v-160H180v160Zm220 220h160v-160H400v160Zm0 220h160v-160H400v160ZM180-400h160v-160H180v160Zm440 0h160v-160H620v160ZM180-180h160v-160H180v160Zm440 0h160v-160H620v160Z\"/>\n",
              "  </svg>\n",
              "    </button>\n",
              "\n",
              "  <style>\n",
              "    .colab-df-container {\n",
              "      display:flex;\n",
              "      gap: 12px;\n",
              "    }\n",
              "\n",
              "    .colab-df-convert {\n",
              "      background-color: #E8F0FE;\n",
              "      border: none;\n",
              "      border-radius: 50%;\n",
              "      cursor: pointer;\n",
              "      display: none;\n",
              "      fill: #1967D2;\n",
              "      height: 32px;\n",
              "      padding: 0 0 0 0;\n",
              "      width: 32px;\n",
              "    }\n",
              "\n",
              "    .colab-df-convert:hover {\n",
              "      background-color: #E2EBFA;\n",
              "      box-shadow: 0px 1px 2px rgba(60, 64, 67, 0.3), 0px 1px 3px 1px rgba(60, 64, 67, 0.15);\n",
              "      fill: #174EA6;\n",
              "    }\n",
              "\n",
              "    .colab-df-buttons div {\n",
              "      margin-bottom: 4px;\n",
              "    }\n",
              "\n",
              "    [theme=dark] .colab-df-convert {\n",
              "      background-color: #3B4455;\n",
              "      fill: #D2E3FC;\n",
              "    }\n",
              "\n",
              "    [theme=dark] .colab-df-convert:hover {\n",
              "      background-color: #434B5C;\n",
              "      box-shadow: 0px 1px 3px 1px rgba(0, 0, 0, 0.15);\n",
              "      filter: drop-shadow(0px 1px 2px rgba(0, 0, 0, 0.3));\n",
              "      fill: #FFFFFF;\n",
              "    }\n",
              "  </style>\n",
              "\n",
              "    <script>\n",
              "      const buttonEl =\n",
              "        document.querySelector('#df-027de3c7-0d6c-439e-acfb-d291dda0515a button.colab-df-convert');\n",
              "      buttonEl.style.display =\n",
              "        google.colab.kernel.accessAllowed ? 'block' : 'none';\n",
              "\n",
              "      async function convertToInteractive(key) {\n",
              "        const element = document.querySelector('#df-027de3c7-0d6c-439e-acfb-d291dda0515a');\n",
              "        const dataTable =\n",
              "          await google.colab.kernel.invokeFunction('convertToInteractive',\n",
              "                                                    [key], {});\n",
              "        if (!dataTable) return;\n",
              "\n",
              "        const docLinkHtml = 'Like what you see? Visit the ' +\n",
              "          '<a target=\"_blank\" href=https://colab.research.google.com/notebooks/data_table.ipynb>data table notebook</a>'\n",
              "          + ' to learn more about interactive tables.';\n",
              "        element.innerHTML = '';\n",
              "        dataTable['output_type'] = 'display_data';\n",
              "        await google.colab.output.renderOutput(dataTable, element);\n",
              "        const docLink = document.createElement('div');\n",
              "        docLink.innerHTML = docLinkHtml;\n",
              "        element.appendChild(docLink);\n",
              "      }\n",
              "    </script>\n",
              "  </div>\n",
              "\n",
              "\n",
              "<div id=\"df-e100faca-dfed-42c2-b95d-bd2eed3b8114\">\n",
              "  <button class=\"colab-df-quickchart\" onclick=\"quickchart('df-e100faca-dfed-42c2-b95d-bd2eed3b8114')\"\n",
              "            title=\"Suggest charts\"\n",
              "            style=\"display:none;\">\n",
              "\n",
              "<svg xmlns=\"http://www.w3.org/2000/svg\" height=\"24px\"viewBox=\"0 0 24 24\"\n",
              "     width=\"24px\">\n",
              "    <g>\n",
              "        <path d=\"M19 3H5c-1.1 0-2 .9-2 2v14c0 1.1.9 2 2 2h14c1.1 0 2-.9 2-2V5c0-1.1-.9-2-2-2zM9 17H7v-7h2v7zm4 0h-2V7h2v10zm4 0h-2v-4h2v4z\"/>\n",
              "    </g>\n",
              "</svg>\n",
              "  </button>\n",
              "\n",
              "<style>\n",
              "  .colab-df-quickchart {\n",
              "      --bg-color: #E8F0FE;\n",
              "      --fill-color: #1967D2;\n",
              "      --hover-bg-color: #E2EBFA;\n",
              "      --hover-fill-color: #174EA6;\n",
              "      --disabled-fill-color: #AAA;\n",
              "      --disabled-bg-color: #DDD;\n",
              "  }\n",
              "\n",
              "  [theme=dark] .colab-df-quickchart {\n",
              "      --bg-color: #3B4455;\n",
              "      --fill-color: #D2E3FC;\n",
              "      --hover-bg-color: #434B5C;\n",
              "      --hover-fill-color: #FFFFFF;\n",
              "      --disabled-bg-color: #3B4455;\n",
              "      --disabled-fill-color: #666;\n",
              "  }\n",
              "\n",
              "  .colab-df-quickchart {\n",
              "    background-color: var(--bg-color);\n",
              "    border: none;\n",
              "    border-radius: 50%;\n",
              "    cursor: pointer;\n",
              "    display: none;\n",
              "    fill: var(--fill-color);\n",
              "    height: 32px;\n",
              "    padding: 0;\n",
              "    width: 32px;\n",
              "  }\n",
              "\n",
              "  .colab-df-quickchart:hover {\n",
              "    background-color: var(--hover-bg-color);\n",
              "    box-shadow: 0 1px 2px rgba(60, 64, 67, 0.3), 0 1px 3px 1px rgba(60, 64, 67, 0.15);\n",
              "    fill: var(--button-hover-fill-color);\n",
              "  }\n",
              "\n",
              "  .colab-df-quickchart-complete:disabled,\n",
              "  .colab-df-quickchart-complete:disabled:hover {\n",
              "    background-color: var(--disabled-bg-color);\n",
              "    fill: var(--disabled-fill-color);\n",
              "    box-shadow: none;\n",
              "  }\n",
              "\n",
              "  .colab-df-spinner {\n",
              "    border: 2px solid var(--fill-color);\n",
              "    border-color: transparent;\n",
              "    border-bottom-color: var(--fill-color);\n",
              "    animation:\n",
              "      spin 1s steps(1) infinite;\n",
              "  }\n",
              "\n",
              "  @keyframes spin {\n",
              "    0% {\n",
              "      border-color: transparent;\n",
              "      border-bottom-color: var(--fill-color);\n",
              "      border-left-color: var(--fill-color);\n",
              "    }\n",
              "    20% {\n",
              "      border-color: transparent;\n",
              "      border-left-color: var(--fill-color);\n",
              "      border-top-color: var(--fill-color);\n",
              "    }\n",
              "    30% {\n",
              "      border-color: transparent;\n",
              "      border-left-color: var(--fill-color);\n",
              "      border-top-color: var(--fill-color);\n",
              "      border-right-color: var(--fill-color);\n",
              "    }\n",
              "    40% {\n",
              "      border-color: transparent;\n",
              "      border-right-color: var(--fill-color);\n",
              "      border-top-color: var(--fill-color);\n",
              "    }\n",
              "    60% {\n",
              "      border-color: transparent;\n",
              "      border-right-color: var(--fill-color);\n",
              "    }\n",
              "    80% {\n",
              "      border-color: transparent;\n",
              "      border-right-color: var(--fill-color);\n",
              "      border-bottom-color: var(--fill-color);\n",
              "    }\n",
              "    90% {\n",
              "      border-color: transparent;\n",
              "      border-bottom-color: var(--fill-color);\n",
              "    }\n",
              "  }\n",
              "</style>\n",
              "\n",
              "  <script>\n",
              "    async function quickchart(key) {\n",
              "      const quickchartButtonEl =\n",
              "        document.querySelector('#' + key + ' button');\n",
              "      quickchartButtonEl.disabled = true;  // To prevent multiple clicks.\n",
              "      quickchartButtonEl.classList.add('colab-df-spinner');\n",
              "      try {\n",
              "        const charts = await google.colab.kernel.invokeFunction(\n",
              "            'suggestCharts', [key], {});\n",
              "      } catch (error) {\n",
              "        console.error('Error during call to suggestCharts:', error);\n",
              "      }\n",
              "      quickchartButtonEl.classList.remove('colab-df-spinner');\n",
              "      quickchartButtonEl.classList.add('colab-df-quickchart-complete');\n",
              "    }\n",
              "    (() => {\n",
              "      let quickchartButtonEl =\n",
              "        document.querySelector('#df-e100faca-dfed-42c2-b95d-bd2eed3b8114 button');\n",
              "      quickchartButtonEl.style.display =\n",
              "        google.colab.kernel.accessAllowed ? 'block' : 'none';\n",
              "    })();\n",
              "  </script>\n",
              "</div>\n",
              "\n",
              "    </div>\n",
              "  </div>\n"
            ],
            "application/vnd.google.colaboratory.intrinsic+json": {
              "type": "dataframe",
              "variable_name": "toy_data",
              "summary": "{\n  \"name\": \"toy_data\",\n  \"rows\": 20,\n  \"fields\": [\n    {\n      \"column\": \"original_firstorder_Energy\",\n      \"properties\": {\n        \"dtype\": \"float32\",\n        \"num_unique_values\": 20,\n        \"samples\": [\n          35107.71484375,\n          14674.9814453125,\n          32511.759765625\n        ],\n        \"semantic_type\": \"\",\n        \"description\": \"\"\n      }\n    },\n    {\n      \"column\": \"original_firstorder_Kurtosis\",\n      \"properties\": {\n        \"dtype\": \"float32\",\n        \"num_unique_values\": 20,\n        \"samples\": [\n          19.263660430908203,\n          29.94274139404297,\n          23.164146423339844\n        ],\n        \"semantic_type\": \"\",\n        \"description\": \"\"\n      }\n    },\n    {\n      \"column\": \"original_firstorder_Skewness\",\n      \"properties\": {\n        \"dtype\": \"float32\",\n        \"num_unique_values\": 20,\n        \"samples\": [\n          -0.28553709387779236,\n          2.858870029449463,\n          2.5362656116485596\n        ],\n        \"semantic_type\": \"\",\n        \"description\": \"\"\n      }\n    },\n    {\n      \"column\": \"lbp-3D-k_firstorder_Maximum\",\n      \"properties\": {\n        \"dtype\": \"float32\",\n        \"num_unique_values\": 20,\n        \"samples\": [\n          9.950082778930664,\n          5.447296142578125,\n          5.49711799621582\n        ],\n        \"semantic_type\": \"\",\n        \"description\": \"\"\n      }\n    },\n    {\n      \"column\": \"wavelet-LHL_glszm_SmallAreaHighGrayLevelEmphasis\",\n      \"properties\": {\n        \"dtype\": \"float32\",\n        \"num_unique_values\": 20,\n        \"samples\": [\n          1.0309795141220093,\n          1.7411139011383057,\n          1.8923283815383911\n        ],\n        \"semantic_type\": \"\",\n        \"description\": \"\"\n      }\n    }\n  ]\n}"
            }
          },
          "metadata": {},
          "execution_count": 9
        }
      ],
      "source": [
        "toy_data.head()"
      ]
    },
    {
      "cell_type": "markdown",
      "id": "a9c71a0a-65c0-43e3-9f51-9a921ad4169a",
      "metadata": {
        "id": "a9c71a0a-65c0-43e3-9f51-9a921ad4169a"
      },
      "source": [
        "## Loading and inference using skops.io saved model"
      ]
    },
    {
      "cell_type": "markdown",
      "id": "744c4481-f684-408d-be9b-0d40920954ea",
      "metadata": {
        "id": "744c4481-f684-408d-be9b-0d40920954ea"
      },
      "source": [
        "### Verifying that there are no untrustworthy types in the saved model"
      ]
    },
    {
      "cell_type": "code",
      "execution_count": 10,
      "id": "9dcb6174-684c-4427-94c1-b08e988c0046",
      "metadata": {
        "id": "9dcb6174-684c-4427-94c1-b08e988c0046",
        "outputId": "a938cb06-0ebb-4dfd-b2bc-2d0de449d775",
        "colab": {
          "base_uri": "https://localhost:8080/"
        }
      },
      "outputs": [
        {
          "output_type": "stream",
          "name": "stdout",
          "text": [
            "[]\n"
          ]
        }
      ],
      "source": [
        "unknown_types = sio.get_untrusted_types(file=\"persisted_models/liverfibrosisdetectionmodel.skops\")\n",
        "print(unknown_types)"
      ]
    },
    {
      "cell_type": "markdown",
      "id": "18c464ed-e0b1-49f9-97a9-5154404007c1",
      "metadata": {
        "id": "18c464ed-e0b1-49f9-97a9-5154404007c1"
      },
      "source": [
        "### Loading in the skop.io saved liver fibrosis detection model"
      ]
    },
    {
      "cell_type": "code",
      "execution_count": 11,
      "id": "a64c95f8-c308-4e77-9964-cd6e5dd0f57d",
      "metadata": {
        "id": "a64c95f8-c308-4e77-9964-cd6e5dd0f57d"
      },
      "outputs": [],
      "source": [
        "liverfibrosisdetectionmodel_skops = sio.load(\"persisted_models/liverfibrosisdetectionmodel.skops\")"
      ]
    },
    {
      "cell_type": "markdown",
      "id": "5535bbb4-2373-43e1-9761-76615afedefc",
      "metadata": {
        "id": "5535bbb4-2373-43e1-9761-76615afedefc"
      },
      "source": [
        "### Generating predictions using the skops.io saved liver fibrosis detection model\n",
        "The set_config function call ensures that the input is processed as a DataFrame.\n",
        "\n",
        "The probabilities acquired from the model can be used to acquire the predictions of whether or not input radiomic features are indicative of liver fibrosis. The decision threshold can be altered depending on the desired sensitivity and specificity of the model."
      ]
    },
    {
      "cell_type": "code",
      "execution_count": 12,
      "id": "555a1e22-966f-415a-8df5-d64bf550725c",
      "metadata": {
        "id": "555a1e22-966f-415a-8df5-d64bf550725c",
        "outputId": "42dec44d-1aa3-4c80-9b34-ee01ba543df0",
        "colab": {
          "base_uri": "https://localhost:8080/"
        }
      },
      "outputs": [
        {
          "output_type": "stream",
          "name": "stdout",
          "text": [
            "[0.70843535 0.60461219 0.70266035 0.50842795 0.74156593 0.58430507\n",
            " 0.6399475  0.59643141 0.64439643 0.84082755 0.41273224 0.62485578\n",
            " 0.39055361 0.6102398  0.7945987  0.59036812 0.8222094  0.69808621\n",
            " 0.55235688 0.5796561 ]\n",
            "[ True  True  True  True  True  True  True  True  True  True False  True\n",
            " False  True  True  True  True  True  True  True]\n"
          ]
        }
      ],
      "source": [
        "set_config(transform_output=\"pandas\")\n",
        "\n",
        "probabilities = liverfibrosisdetectionmodel_skops.predict_proba(toy_data)[:, 1]\n",
        "print(probabilities)\n",
        "\n",
        "decision_threshold = 0.5 # Setting decision threshold to 0.5 for this example\n",
        "predictions = probabilities >= decision_threshold\n",
        "print(predictions)"
      ]
    },
    {
      "cell_type": "markdown",
      "id": "929c7685-67d7-4cc5-9791-f497c143405c",
      "metadata": {
        "id": "929c7685-67d7-4cc5-9791-f497c143405c"
      },
      "source": [
        "## Loading and inference using ONNX saved model"
      ]
    },
    {
      "cell_type": "markdown",
      "id": "01f591b8-fbca-45e9-adc2-b57917f02830",
      "metadata": {
        "id": "01f591b8-fbca-45e9-adc2-b57917f02830"
      },
      "source": [
        "### Loading in the ONNX saved liver fibrosis detection model"
      ]
    },
    {
      "cell_type": "code",
      "execution_count": 13,
      "id": "3a777f94-b4eb-490a-8c49-eb5a0d7c4b6b",
      "metadata": {
        "id": "3a777f94-b4eb-490a-8c49-eb5a0d7c4b6b"
      },
      "outputs": [],
      "source": [
        "with open(\"persisted_models/liverfibrosisdetectionmodel.onnx\", \"rb\") as f:\n",
        "    onnx = f.read()\n",
        "sess = InferenceSession(onnx, providers=[\"CPUExecutionProvider\"])"
      ]
    },
    {
      "cell_type": "markdown",
      "id": "534de713-13e1-4f6b-af2f-ae409c34647d",
      "metadata": {
        "id": "534de713-13e1-4f6b-af2f-ae409c34647d"
      },
      "source": [
        "### Helper function used to convert the input dataframes into valid inputs for the ONNX model\n",
        "\n",
        "The hyphens in the features names are converted to underscores because ONNX seems to automatically perform that conversion."
      ]
    },
    {
      "cell_type": "code",
      "execution_count": 14,
      "id": "53ba90b9-d2b5-4592-97ae-be2f10cf5b84",
      "metadata": {
        "id": "53ba90b9-d2b5-4592-97ae-be2f10cf5b84"
      },
      "outputs": [],
      "source": [
        "def convert_onnx_inputs(input_df):\n",
        "    return {c.replace(\"-\", \"_\"): input_df[c].values.reshape((-1, 1)) for c in input_df.columns}"
      ]
    },
    {
      "cell_type": "markdown",
      "id": "83bfc1a2-cbd2-415e-bbe3-9e3ba7242c59",
      "metadata": {
        "id": "83bfc1a2-cbd2-415e-bbe3-9e3ba7242c59"
      },
      "source": [
        "### Generating predictions using the skops.io saved liver fibrosis detection model\n",
        "If a decision threshold of 0.5 is used, the predictions can be acquired simply by using outputs[0], which will have 0 for F0 and 1 for F1-F4.\n",
        "\n",
        "Note that the probabilities are not the same as the skops.io saved model. This is due to the conversion to ONNX format. The predictions for the most part will be similar enough that there is no significant difference but it can affect the predictions of some patients."
      ]
    },
    {
      "cell_type": "code",
      "execution_count": 15,
      "id": "82a3ca92-231e-4ebc-b4d5-a62d8c4a299c",
      "metadata": {
        "id": "82a3ca92-231e-4ebc-b4d5-a62d8c4a299c",
        "outputId": "c4b4089c-1f55-490a-fa8b-57a428023bc0",
        "colab": {
          "base_uri": "https://localhost:8080/"
        }
      },
      "outputs": [
        {
          "output_type": "stream",
          "name": "stdout",
          "text": [
            "[0.85515195 0.7004497  0.8481285  0.5168511  0.8917022  0.6639492\n",
            " 0.7595607  0.68594635 0.76656127 0.9654036  0.33062413 0.7350545\n",
            " 0.29111573 0.71025866 0.9373647  0.67501915 0.95533097 0.84242755\n",
            " 0.60357803 0.6553689 ]\n",
            "[ True  True  True  True  True  True  True  True  True  True False  True\n",
            " False  True  True  True  True  True  True  True]\n"
          ]
        }
      ],
      "source": [
        "# Note that the probabilities are different but similar enough to not affect predictions at decision thresholds that don't significantly vary from 0.5 (for example, a difference will be seen at decision thresholds of 0.9), this is a result of the ONNX conversion\n",
        "outputs = sess.run(None, convert_onnx_inputs(toy_data))\n",
        "probabilities = outputs[1][:, 1]\n",
        "print(probabilities)\n",
        "\n",
        "# predictions = outputs[0] == 1\n",
        "decision_threshold = 0.5 # Setting decision threshold to 0.5 for this example\n",
        "predictions = probabilities >= decision_threshold\n",
        "print(predictions)"
      ]
    },
    {
      "cell_type": "code",
      "execution_count": 15,
      "id": "be19dc35-71ca-49b8-a29d-145df7a23259",
      "metadata": {
        "id": "be19dc35-71ca-49b8-a29d-145df7a23259"
      },
      "outputs": [],
      "source": []
    }
  ],
  "metadata": {
    "kernelspec": {
      "display_name": "Python 3 (ipykernel)",
      "language": "python",
      "name": "python3"
    },
    "language_info": {
      "codemirror_mode": {
        "name": "ipython",
        "version": 3
      },
      "file_extension": ".py",
      "mimetype": "text/x-python",
      "name": "python",
      "nbconvert_exporter": "python",
      "pygments_lexer": "ipython3",
      "version": "3.12.5"
    },
    "colab": {
      "provenance": [],
      "include_colab_link": true
    }
  },
  "nbformat": 4,
  "nbformat_minor": 5
}